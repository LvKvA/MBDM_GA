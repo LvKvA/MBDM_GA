{
 "cells": [
  {
   "cell_type": "markdown",
   "metadata": {},
   "source": [
    "# Final policy notebook\n",
    "This notebook contains all code used for the report from the Gelderland analysts."
   ]
  },
  {
   "cell_type": "markdown",
   "metadata": {},
   "source": [
    "## Loading of model"
   ]
  },
  {
   "cell_type": "code",
   "execution_count": 8,
   "metadata": {
    "ExecuteTime": {
     "end_time": "2023-06-23T08:40:17.444316Z",
     "start_time": "2023-06-23T08:40:17.335795Z"
    }
   },
   "outputs": [
    {
     "data": {
      "text/plain": [
       "<Logger EMA (DEBUG)>"
      ]
     },
     "execution_count": 8,
     "metadata": {},
     "output_type": "execute_result"
    }
   ],
   "source": [
    "import os\n",
    "import random\n",
    "import shutil\n",
    "import pickle\n",
    "import numpy as np\n",
    "import pandas as pd\n",
    "import matplotlib.pyplot as plt\n",
    "import seaborn as sns\n",
    "\n",
    "from ema_workbench import (\n",
    "    Policy,\n",
    "    Scenario,\n",
    "    ema_logging,\n",
    "    Samplers,\n",
    "    MultiprocessingEvaluator,\n",
    "    save_results,\n",
    "    load_results,\n",
    "    Constraint,\n",
    ")\n",
    "from ema_workbench import Samplers\n",
    "from ema_workbench.analysis import feature_scoring\n",
    "from ema_workbench.analysis.scenario_discovery_util import RuleInductionType\n",
    "from ema_workbench.em_framework.salib_samplers import get_SALib_problem\n",
    "from SALib.analyze import sobol\n",
    "from ema_workbench.analysis import prim, parcoords\n",
    "from ema_workbench.em_framework.optimization import to_problem, ArchiveLogger, EpsilonProgress\n",
    "from problem_formulation import get_model_for_problem_formulation\n",
    "\n",
    "ema_logging.log_to_stderr(ema_logging.INFO)"
   ]
  },
  {
   "cell_type": "markdown",
   "metadata": {},
   "source": [
    "## Preliminary Sensitivity Analysis"
   ]
  },
  {
   "cell_type": "code",
   "execution_count": null,
   "metadata": {},
   "outputs": [],
   "source": [
    "dike_model, planning_steps = get_model_for_problem_formulation(6)\n",
    "def get_do_nothing_dict():\n",
    "    return {l.name: 0 for l in dike_model.levers}\n",
    "\n",
    "num_scens = 1024\n",
    "policy = Policy(\"no release\", **get_do_nothing_dict())\n",
    "with MultiprocessingEvaluator(dike_model) as evaluator:\n",
    "    results = evaluator.perform_experiments(scenarios=num_scens, policies = policy, uncertainty_sampling = Samplers.SOBOL)\n",
    "\n",
    "from ema_workbench import save_results\n",
    "save_results(results, f\"{num_scens}_sen_SOBOL_np2.tar.gz\")"
   ]
  },
  {
   "cell_type": "code",
   "execution_count": null,
   "metadata": {},
   "outputs": [],
   "source": [
    "results = load_results('1024_sen_SOBOL_np2.tar.gz')\n",
    "experiments, outcomes = results\n",
    "\n",
    "rings = [\"A.1\", \"A.2\", \"A.3\", \"A.4\", \"A.5\"]\n",
    "data = pd.DataFrame(outcomes)"
   ]
  },
  {
   "cell_type": "code",
   "execution_count": null,
   "metadata": {},
   "outputs": [],
   "source": [
    "strings = [\"_Expected Annual Damage\", \"_Expected Number of Deaths\"]\n",
    "cols = [\"mediumseagreen\", \"navy\", \"sandybrown\", \"crimson\", \"mediumorchid\"]\n",
    "markers = [\"o\",6, \"s\", \"D\", \"v\"]\n",
    "for j in range(len(strings)):\n",
    "    for i in range(len(rings)):\n",
    "        \n",
    "        y = outcomes[f'{rings[i]}{strings[j]}']\n",
    "        problem = get_SALib_problem(dike_model.uncertainties)\n",
    "        Si = sobol.analyze(problem, y, calc_second_order=True, print_to_console=False)\n",
    "\n",
    "        lst = Si.to_df()\n",
    "        df = pd.concat(lst)\n",
    "        if i == 0:\n",
    "            ax = df.plot(y=\"ST\", marker = markers[i], color = cols[i], linestyle = \"\", rot = 90, figsize = (7,5), label = f\"Dike ring {i+1}\")\n",
    "        else:\n",
    "            df.plot(y=\"ST\", marker = markers[i], color = cols[i], linestyle = \"\", rot = 90, label = f\"Dike ring {i+1}\", ax=ax)\n",
    "    \n",
    "    ax.set_xticks(range(17))\n",
    "    ax.set_xticklabels([ind for ind in df.index[:17]], rotation=90)\n",
    "    ax.grid(visible = True)\n",
    "    plt.title(f\"{strings[j][1:]} per dike ring sensitivity analysis\")\n",
    "    plt.ylabel(\"Total Sensitivity\")\n",
    "    plt.savefig(f\"Sensitivity {strings[j][1:]}\")\n",
    "    plt.show()"
   ]
  },
  {
   "cell_type": "markdown",
   "metadata": {},
   "source": [
    "## PRIM global sensitivity analysis"
   ]
  },
  {
   "cell_type": "code",
   "execution_count": null,
   "metadata": {
    "ExecuteTime": {
     "end_time": "2023-06-22T10:42:07.860882Z",
     "start_time": "2023-06-22T10:03:39.494346Z"
    }
   },
   "outputs": [
    {
     "name": "stderr",
     "output_type": "stream",
     "text": [
      "[MainProcess/INFO] pool started with 8 workers\n",
      "C:\\Program Files\\Python311\\Lib\\site-packages\\scipy\\stats\\_qmc.py:763: UserWarning: The balance properties of Sobol' points require n to be a power of 2.\n",
      "  sample = self._random(n, workers=workers)\n",
      "[MainProcess/INFO] performing 36000 scenarios * 1 policies * 1 model(s) = 36000 experiments\n",
      " 13%|████▌                              | 4662/36000 [08:02<1:01:33,  8.49it/s]"
     ]
    }
   ],
   "source": [
    "# Return policy for business-as-usual case\n",
    "dike_model, planning_steps = get_model_for_problem_formulation(2)\n",
    "def get_do_nothing_dict():\n",
    "    return {l.name: 0 for l in dike_model.levers}\n",
    "\n",
    "bau_policy = Policy(\"no policy\", **get_do_nothing_dict())\n",
    "\n",
    "# Evaluate business-as-usual with SOBOL\n",
    "\n",
    "with MultiprocessingEvaluator(dike_model) as evaluator:\n",
    "    results = evaluator.perform_experiments(scenarios=1000, policies=bau_policy, uncertainty_sampling=Samplers.SOBOL)\n",
    "from ema_workbench import save_results\n",
    "\n",
    "save_results(results, \"Base_scenario_pf2.tar.gz\")"
   ]
  },
  {
   "cell_type": "code",
   "execution_count": 3,
   "metadata": {
    "ExecuteTime": {
     "end_time": "2023-06-22T22:09:46.432188Z",
     "start_time": "2023-06-22T22:09:45.872688Z"
    }
   },
   "outputs": [
    {
     "name": "stderr",
     "output_type": "stream",
     "text": [
      "[MainProcess/INFO] results loaded successfully from C:\\Users\\Arthur\\Documents\\GitHub\\model-based-decision-making\\final assignment\\Base_scenario_pf2.tar.gz\n"
     ]
    }
   ],
   "source": [
    "# Load results from previous run\n",
    "results_bau = \"Base_scenario_pf2.tar.gz\"\n",
    "experiments, outcomes = load_results(results_bau)"
   ]
  },
  {
   "cell_type": "code",
   "execution_count": 4,
   "metadata": {
    "ExecuteTime": {
     "end_time": "2023-06-22T22:11:34.132194Z",
     "start_time": "2023-06-22T22:10:50.995696Z"
    }
   },
   "outputs": [
    {
     "name": "stderr",
     "output_type": "stream",
     "text": [
      "[MainProcess/INFO] policy dropped from analysis because only a single category\n",
      "[MainProcess/INFO] model dropped from analysis because only a single category\n",
      "[MainProcess/INFO] 36000 points remaining, containing 1793 cases of interest\n",
      "[MainProcess/INFO] mean: 0.6513911620294599, mass: 0.050916666666666666, coverage: 0.6659230340211936, density: 0.6513911620294599 restricted_dimensions: 5\n"
     ]
    },
    {
     "data": {
      "image/png": "[encoded data removed]",
      "text/plain": [
       "<Figure size 640x480 with 2 Axes>"
      ]
     },
     "metadata": {},
     "output_type": "display_data"
    },
    {
     "data": {
      "image/png": "[encoded data removed]",
      "text/plain": [
       "<Figure size 640x480 with 1 Axes>"
      ]
     },
     "metadata": {},
     "output_type": "display_data"
    },
    {
     "name": "stderr",
     "output_type": "stream",
     "text": [
      "[MainProcess/INFO] resample 0\n",
      "[MainProcess/INFO] resample 1\n",
      "[MainProcess/INFO] resample 2\n",
      "[MainProcess/INFO] resample 3\n",
      "[MainProcess/INFO] resample 4\n",
      "[MainProcess/INFO] resample 5\n",
      "[MainProcess/INFO] resample 6\n",
      "[MainProcess/INFO] resample 7\n",
      "[MainProcess/INFO] resample 8\n",
      "[MainProcess/INFO] resample 9\n"
     ]
    },
    {
     "data": {
      "text/html": [
       "<div>\n",
       "<style scoped>\n",
       "    .dataframe tbody tr th:only-of-type {\n",
       "        vertical-align: middle;\n",
       "    }\n",
       "\n",
       "    .dataframe tbody tr th {\n",
       "        vertical-align: top;\n",
       "    }\n",
       "\n",
       "    .dataframe thead th {\n",
       "        text-align: right;\n",
       "    }\n",
       "</style>\n",
       "<table border=\"1\" class=\"dataframe\">\n",
       "  <thead>\n",
       "    <tr style=\"text-align: right;\">\n",
       "      <th></th>\n",
       "      <th>reproduce coverage</th>\n",
       "      <th>reproduce density</th>\n",
       "    </tr>\n",
       "  </thead>\n",
       "  <tbody>\n",
       "    <tr>\n",
       "      <th>A.1_Bmax</th>\n",
       "      <td>100.0</td>\n",
       "      <td>100.0</td>\n",
       "    </tr>\n",
       "    <tr>\n",
       "      <th>A.1_pfail</th>\n",
       "      <td>100.0</td>\n",
       "      <td>100.0</td>\n",
       "    </tr>\n",
       "    <tr>\n",
       "      <th>A.2_pfail</th>\n",
       "      <td>100.0</td>\n",
       "      <td>100.0</td>\n",
       "    </tr>\n",
       "    <tr>\n",
       "      <th>discount rate 0</th>\n",
       "      <td>100.0</td>\n",
       "      <td>100.0</td>\n",
       "    </tr>\n",
       "    <tr>\n",
       "      <th>A.3_pfail</th>\n",
       "      <td>10.0</td>\n",
       "      <td>10.0</td>\n",
       "    </tr>\n",
       "    <tr>\n",
       "      <th>A.4_pfail</th>\n",
       "      <td>10.0</td>\n",
       "      <td>0.0</td>\n",
       "    </tr>\n",
       "    <tr>\n",
       "      <th>A.0_ID flood wave shape</th>\n",
       "      <td>0.0</td>\n",
       "      <td>0.0</td>\n",
       "    </tr>\n",
       "    <tr>\n",
       "      <th>A.1_Brate</th>\n",
       "      <td>0.0</td>\n",
       "      <td>0.0</td>\n",
       "    </tr>\n",
       "    <tr>\n",
       "      <th>A.2_Bmax</th>\n",
       "      <td>0.0</td>\n",
       "      <td>0.0</td>\n",
       "    </tr>\n",
       "    <tr>\n",
       "      <th>A.2_Brate</th>\n",
       "      <td>0.0</td>\n",
       "      <td>0.0</td>\n",
       "    </tr>\n",
       "    <tr>\n",
       "      <th>A.3_Bmax</th>\n",
       "      <td>0.0</td>\n",
       "      <td>0.0</td>\n",
       "    </tr>\n",
       "    <tr>\n",
       "      <th>A.3_Brate</th>\n",
       "      <td>0.0</td>\n",
       "      <td>0.0</td>\n",
       "    </tr>\n",
       "    <tr>\n",
       "      <th>A.4_Bmax</th>\n",
       "      <td>0.0</td>\n",
       "      <td>0.0</td>\n",
       "    </tr>\n",
       "    <tr>\n",
       "      <th>A.4_Brate</th>\n",
       "      <td>0.0</td>\n",
       "      <td>0.0</td>\n",
       "    </tr>\n",
       "    <tr>\n",
       "      <th>A.5_Bmax</th>\n",
       "      <td>0.0</td>\n",
       "      <td>0.0</td>\n",
       "    </tr>\n",
       "    <tr>\n",
       "      <th>A.5_Brate</th>\n",
       "      <td>0.0</td>\n",
       "      <td>0.0</td>\n",
       "    </tr>\n",
       "    <tr>\n",
       "      <th>A.5_pfail</th>\n",
       "      <td>0.0</td>\n",
       "      <td>0.0</td>\n",
       "    </tr>\n",
       "  </tbody>\n",
       "</table>\n",
       "</div>"
      ],
      "text/plain": [
       "                         reproduce coverage  reproduce density\n",
       "A.1_Bmax                              100.0              100.0\n",
       "A.1_pfail                             100.0              100.0\n",
       "A.2_pfail                             100.0              100.0\n",
       "discount rate 0                       100.0              100.0\n",
       "A.3_pfail                              10.0               10.0\n",
       "A.4_pfail                              10.0                0.0\n",
       "A.0_ID flood wave shape                 0.0                0.0\n",
       "A.1_Brate                               0.0                0.0\n",
       "A.2_Bmax                                0.0                0.0\n",
       "A.2_Brate                               0.0                0.0\n",
       "A.3_Bmax                                0.0                0.0\n",
       "A.3_Brate                               0.0                0.0\n",
       "A.4_Bmax                                0.0                0.0\n",
       "A.4_Brate                               0.0                0.0\n",
       "A.5_Bmax                                0.0                0.0\n",
       "A.5_Brate                               0.0                0.0\n",
       "A.5_pfail                               0.0                0.0"
      ]
     },
     "execution_count": 4,
     "metadata": {},
     "output_type": "execute_result"
    }
   ],
   "source": [
    "# Prim analysis for the 5% highest annual damage outcomes\n",
    "dike_model, planning_steps = get_model_for_problem_formulation(2)\n",
    "outcome_of_interest = outcomes['Expected Annual Damage']\n",
    "x = experiments.drop(labels=[l.name for l in dike_model.levers], axis=1)\n",
    "y = outcome_of_interest > np.percentile(outcome_of_interest, 95)\n",
    "prim_alg = prim.Prim(x, y, threshold=0.5, peel_alpha=0.06)\n",
    "box = prim_alg.find_box()\n",
    "\n",
    "box.show_tradeoff(annotated=True)\n",
    "plt.show()\n",
    "\n",
    "# Pick box 23, which has a relatively high density and interpretability\n",
    "point = 23\n",
    "box.inspect(point, style='graph')\n",
    "box.select(point)\n",
    "plt.show()\n",
    "\n",
    "box.resample(point)"
   ]
  },
  {
   "cell_type": "code",
   "execution_count": 5,
   "metadata": {
    "ExecuteTime": {
     "end_time": "2023-06-22T22:11:34.145213Z",
     "start_time": "2023-06-22T22:11:34.132696Z"
    }
   },
   "outputs": [],
   "source": [
    "# Create reference scenario\n",
    "lims_as_dict = box.box_lim.to_dict(orient=\"records\")\n",
    "for i in range(len(lims_as_dict)):\n",
    "    del lims_as_dict[i]['discount rate 0']\n",
    "\n",
    "av_dict = {}\n",
    "\n",
    "for key in lims_as_dict[0].keys():\n",
    "    av_dict[key] = (lims_as_dict[0][key] + lims_as_dict[1][key]) / 2\n",
    "    if \"Brate\" in key or key == \"A.0_ID flood wave shape\":\n",
    "        av_dict[key] = np.round(av_dict[key]).astype(int)\n",
    "\n",
    "ref_scen = Scenario(**av_dict)"
   ]
  },
  {
   "cell_type": "code",
   "execution_count": 1,
   "metadata": {
    "ExecuteTime": {
     "end_time": "2023-06-22T22:12:42.815692Z",
     "start_time": "2023-06-22T22:11:34.148723Z"
    }
   },
   "outputs": [
    {
     "ename": "NameError",
     "evalue": "name 'box' is not defined",
     "output_type": "error",
     "traceback": [
      "\u001B[1;31m---------------------------------------------------------------------------\u001B[0m",
      "\u001B[1;31mNameError\u001B[0m                                 Traceback (most recent call last)",
      "Cell \u001B[1;32mIn[1], line 2\u001B[0m\n\u001B[0;32m      1\u001B[0m \u001B[38;5;66;03m# Show scatter plot with cases of interest in box\u001B[39;00m\n\u001B[1;32m----> 2\u001B[0m \u001B[43mbox\u001B[49m\u001B[38;5;241m.\u001B[39mshow_pairs_scatter()\n\u001B[0;32m      3\u001B[0m fig \u001B[38;5;241m=\u001B[39m plt\u001B[38;5;241m.\u001B[39mgcf()\n\u001B[0;32m      4\u001B[0m plt\u001B[38;5;241m.\u001B[39mshow()\n",
      "\u001B[1;31mNameError\u001B[0m: name 'box' is not defined"
     ]
    }
   ],
   "source": [
    "# Show scatter plot with cases of interest in box\n",
    "box.show_pairs_scatter()\n",
    "fig = plt.gcf()\n",
    "plt.show()\n",
    "plt.savefig(\"PRIM scatter\")"
   ]
  },
  {
   "cell_type": "markdown",
   "metadata": {},
   "source": [
    "## MOEA"
   ]
  },
  {
   "cell_type": "code",
   "execution_count": 9,
   "metadata": {
    "ExecuteTime": {
     "end_time": "2023-06-22T23:17:45.681669Z",
     "start_time": "2023-06-22T23:12:24.719895Z"
    },
    "pycharm": {
     "is_executing": true
    }
   },
   "outputs": [
    {
     "name": "stderr",
     "output_type": "stream",
     "text": [
      "[MainProcess/INFO] pool started with 8 workers\n",
      "100%|████████████████████████████████████████| 100/100 [00:06<00:00, 15.76it/s]\n",
      "[MainProcess/INFO] optimization completed, found 3 solutions\n",
      "[MainProcess/INFO] terminating pool\n"
     ]
    }
   ],
   "source": [
    "MOEA_runs = 1\n",
    "seed = 1\n",
    "results = []\n",
    "convergences = []\n",
    "\n",
    "nfes = 100 # TODO: set to 100000\n",
    "eps = [1e6, 5e7, 1e8, 1e6, 0.1] # Values are chosen to obtain ~5 solutions per run\n",
    "constraints = [Constraint(\"max damages\", outcome_names=\"Expected Annual Damage\", function=lambda x: max(0, x - 5e6))] # Add constraint for 5mln damage maximum\n",
    "\n",
    "# Find policies in 5 different runs\n",
    "with MultiprocessingEvaluator(dike_model) as evaluator:\n",
    "    for i in range(MOEA_runs):\n",
    "        if os.path.isdir('./tmp'):\n",
    "            shutil.rmtree('./tmp')\n",
    "\n",
    "        random.seed(seed)  # Choose seed for reproducibility\n",
    "\n",
    "        # Save epsilon progress as convergence metric\n",
    "        convergence_metrics = [\n",
    "            ArchiveLogger(\n",
    "                \"./\",\n",
    "                [l.name for l in dike_model.levers],\n",
    "                [o.name for o in dike_model.outcomes],\n",
    "                base_filename=f\"convergence_run{i}.tar.gz\"),\n",
    "            EpsilonProgress()]\n",
    "\n",
    "        result, convergence = evaluator.optimize(\n",
    "            nfe=nfes,\n",
    "            searchover=\"levers\",\n",
    "            epsilons=eps,\n",
    "            convergence=convergence_metrics,\n",
    "            constraints=constraints,\n",
    "            reference=ref_scen) # Uses the reference scenario obtained earlier with PRIM\n",
    "        results.append(result)\n",
    "        convergences.append(convergence)\n",
    "        \n",
    "with open(f\"convergences_{seed}\", \"wb\") as fp:   #Pickling\n",
    "    pickle.dump(convergences, fp)\n",
    "\n"
   ]
  },
  {
   "cell_type": "code",
   "execution_count": 10,
   "metadata": {
    "ExecuteTime": {
     "end_time": "2023-06-22T22:43:42.191391Z",
     "start_time": "2023-06-22T22:43:42.136378Z"
    }
   },
   "outputs": [],
   "source": [
    "# Show outcomes and save policy\n",
    "with open(f\"convergences_{seed}\", \"rb\") as fp:   # Unpickling\n",
    "    convergences = pickle.load(fp)\n",
    "outcome_keys = np.copy(list(outcomes.keys()))\n",
    "MOEA_policies = np.array([{} for _ in range(MOEA_runs)])\n",
    "\n",
    "for run in range(MOEA_runs):\n",
    "    outcomes = results[run].loc[:,\n",
    "               ['Expected Annual Damage', 'Dike Investment Costs', 'RfR Investment Costs', 'Evacuation Costs',\n",
    "                'Expected Number of Deaths']]\n",
    "\n",
    "    # Save policies\n",
    "    policies_df = results[run].drop(outcome_keys, axis=1)\n",
    "    policies_dict = policies_df.to_dict(orient=\"records\")\n",
    "    MOEA_policies[run] = policies_dict\n",
    "\n",
    "np.save(f\"policies_{seed}.npy\", MOEA_policies)"
   ]
  },
  {
   "cell_type": "code",
   "execution_count": null,
   "metadata": {
    "ExecuteTime": {
     "end_time": "2023-06-22T22:51:28.143808Z",
     "start_time": "2023-06-22T22:51:27.205332Z"
    }
   },
   "outputs": [],
   "source": [
    "# Plot tradeoffs in outcomes\n",
    "scale = 1e6\n",
    "\n",
    "limits = pd.DataFrame([[0,0,0,0,0],[5,700,700,1,1]], columns=outcome_keys)\n",
    "axes = parcoords.ParallelAxes(limits)\n",
    "\n",
    "for i, (result, color) in enumerate(zip(results, sns.color_palette())):\n",
    "    outcomes = result.loc[:,outcome_keys]\n",
    "    # Scale costs to millions\n",
    "    for key in outcome_keys:\n",
    "        if key != 'Expected Number of Deaths':\n",
    "            outcomes[key] = outcomes[key] / scale\n",
    "    axes.plot(outcomes, color=color, label='run {}'.format(i))\n",
    "\n",
    "axes.legend()\n",
    "plt.show()\n",
    "plt.savefig(\"MOEA runs\")\n"
   ]
  },
  {
   "cell_type": "code",
   "execution_count": null,
   "metadata": {
    "ExecuteTime": {
     "end_time": "2023-06-22T22:43:55.598958Z",
     "start_time": "2023-06-22T22:43:54.597961Z"
    }
   },
   "outputs": [],
   "source": [
    "for i in range(len(convergences)):\n",
    "    plt.plot(convergences[i].nfe, convergences[i].epsilon_progress)\n",
    "plt.show()\n",
    "plt.savefig(\"epsilon_convergences\")"
   ]
  },
  {
   "cell_type": "markdown",
   "metadata": {},
   "source": [
    "## Evaluate policies"
   ]
  },
  {
   "cell_type": "code",
   "execution_count": null,
   "metadata": {
    "ExecuteTime": {
     "end_time": "2023-06-22T22:43:58.984511Z",
     "start_time": "2023-06-22T22:43:58.964016Z"
    }
   },
   "outputs": [],
   "source": [
    "# Load policies\n",
    "policies_dict = np.load(\"policies.npy\", allow_pickle=True)\n",
    "pol_names = [f\"pol_{100*i+j}\" for i in range(MOEA_runs) for j in range(len(policies_dict[i]))]"
   ]
  },
  {
   "cell_type": "markdown",
   "metadata": {},
   "source": [
    "### Plotting the obtained policies"
   ]
  },
  {
   "cell_type": "code",
   "execution_count": null,
   "metadata": {
    "ExecuteTime": {
     "end_time": "2023-06-22T22:50:40.720928Z",
     "start_time": "2023-06-22T22:44:07.831317Z"
    }
   },
   "outputs": [],
   "source": [
    "num_scen = 1000 # TODO: set to 1000\n",
    "policies = [Policy(f\"pol_{100*i+j}\", **policies_dict[i][j]) for i in range(MOEA_runs) for j in range(len(policies_dict[i])) ]\n",
    "with MultiprocessingEvaluator(dike_model) as evaluator:\n",
    "    results_new = evaluator.perform_experiments(num_scen, policies=policies)\n",
    "save_results(results_new, \"re-evaluation.tar.gz\")"
   ]
  },
  {
   "cell_type": "code",
   "execution_count": null,
   "metadata": {
    "ExecuteTime": {
     "end_time": "2023-06-22T22:50:40.972927Z",
     "start_time": "2023-06-22T22:50:40.761925Z"
    }
   },
   "outputs": [],
   "source": [
    "results_new = load_results(\"re-evaluation.tar.gz\")\n",
    "exp_new, out_new = results_new"
   ]
  },
  {
   "cell_type": "code",
   "execution_count": null,
   "metadata": {
    "ExecuteTime": {
     "end_time": "2023-06-22T22:50:44.782809Z",
     "start_time": "2023-06-22T22:50:40.935426Z"
    }
   },
   "outputs": [],
   "source": [
    "measures = [f\"{j}_RfR 0\" for j in range(5)] + [\"EWS_DaysToThreat\"] + [f\"A.{i + 1}_DikeIncrease 0\" for i in range(5)]\n",
    "policies_list = []\n",
    "for i in range(len(policies_dict)):\n",
    "    policies_list.append(list(zip(*map(dict.values, policies_dict[i]))))\n",
    "\n",
    "distance = 0\n",
    "end_dist = 0\n",
    "\n",
    "# Convert the 2D list with tuples into a table\n",
    "pol_arr = np.zeros((len(measures), len(policies)))\n",
    "for i in range(len(policies_list)):\n",
    "    distance = end_dist\n",
    "    for j in range(len(policies_list[i])):\n",
    "        temp_dist = distance\n",
    "        for k in range(len(policies_list[i][j])):\n",
    "            pol_arr[j,temp_dist] = policies_list[i][j][k]\n",
    "            temp_dist += 1\n",
    "        end_dist = temp_dist\n",
    "\n",
    "pol_arr = pol_arr.T\n",
    "\n",
    "\n",
    "for (j,i),label in np.ndenumerate(pol_arr):\n",
    "    plt.text(i,j,int(label),ha='center',va='center')\n",
    "plt.imshow(pol_arr, cmap = \"Blues\", vmax = 14)\n",
    "plt.xticks(np.arange(len(measures)),measures,rotation = 90 )\n",
    "plt.yticks(np.arange(len(pol_names)), pol_names)\n",
    "plt.show()\n",
    "plt.savefig(\"Policy table\")"
   ]
  },
  {
   "cell_type": "code",
   "execution_count": null,
   "metadata": {
    "ExecuteTime": {
     "end_time": "2023-06-22T22:51:27.209810Z",
     "start_time": "2023-06-22T22:50:44.754335Z"
    }
   },
   "outputs": [],
   "source": [
    "# Plot damages with a boxplot per policy\n",
    "scale = 1e6\n",
    "\n",
    "outcome = \"Expected Annual Damage\"\n",
    "num_pols = len(policies)\n",
    "plt.figure(figsize = (7,6))\n",
    "expected_damages_per_pol = np.zeros((num_scen,len(policies)))\n",
    "for i in range(len(policies)):\n",
    "    expected_damages_per_pol[:,i] = out_new[outcome][i*num_scen:(i+1)*num_scen]\n",
    "    plt.boxplot(expected_damages_per_pol/scale, medianprops = dict(color = \"black\", linewidth = 2),\n",
    "        patch_artist = True,\n",
    "            boxprops = dict(facecolor = \"mediumseagreen\"), flierprops={'marker': 'o', 'markersize': 5, 'markerfacecolor': 'slategrey'})\n",
    "plt.ylabel(\"Annual damages (million euros)\")\n",
    "    # plt.xticks(range(1, 6), range(5))\n",
    "plt.xlabel(\"Policy\")\n",
    "#plt.yscale(\"log\")\n",
    "plt.savefig(\"Annual_damages_final\", dpi = 200)\n",
    "plt.show()"
   ]
  },
  {
   "cell_type": "code",
   "execution_count": null,
   "metadata": {
    "ExecuteTime": {
     "end_time": "2023-06-22T22:55:18.097590Z",
     "start_time": "2023-06-22T22:54:37.180556Z"
    }
   },
   "outputs": [],
   "source": [
    "# Plot deaths with a boxplot per policy\n",
    "outcome = \"Expected Number of Deaths\"\n",
    "num_pols = len(policies)\n",
    "plt.figure(figsize = (7,6))\n",
    "deaths_per_pol = np.zeros((num_scen,len(policies)))\n",
    "\n",
    "for i in range(len(policies)):\n",
    "    deaths_per_pol[:,i] = out_new[outcome][i*num_scen:(i+1)*num_scen]\n",
    "    plt.boxplot(deaths_per_pol, medianprops = dict(color = \"black\", linewidth = 2),\n",
    "        patch_artist = True,\n",
    "            boxprops = dict(facecolor = \"mediumseagreen\"), flierprops={'marker': 'o', 'markersize': 5, 'markerfacecolor': 'slategrey'})\n",
    "plt.ylabel(\"Annual deaths\")\n",
    "plt.xlabel(\"Policy\")\n",
    "plt.savefig(\"Annual_deaths_final\", dpi = 200)\n",
    "plt.show()"
   ]
  },
  {
   "cell_type": "code",
   "execution_count": null,
   "metadata": {
    "ExecuteTime": {
     "end_time": "2023-06-22T23:02:23.735809Z",
     "start_time": "2023-06-22T23:02:21.726339Z"
    },
    "collapsed": true
   },
   "outputs": [],
   "source": [
    "investments_per_pol = np.zeros((num_scen,len(policies)))\n",
    "investments = ['Dike Investment Costs', 'RfR Investment Costs', 'Evacuation Costs']\n",
    "\n",
    "for i in range(len(policies)):\n",
    "    for j in investments:\n",
    "        investments_per_pol[:,i] += out_new[j][i*num_scen:(i+1)*num_scen]\n",
    "x = [*range(len(policies))]\n",
    "plt.bar(x,investments_per_pol[0,:int(num_pols)]/scale, color = \"salmon\")\n",
    "plt.xticks(range(len(policies)), range(len(policies)))\n",
    "plt.ylabel(\"Total investment costs (million euros)\")\n",
    "plt.xlabel(\"Policy\")\n",
    "plt.savefig(\"Total_investment\", dpi = 200)\n",
    "plt.tight_layout()\n",
    "plt.show()"
   ]
  },
  {
   "cell_type": "markdown",
   "metadata": {},
   "source": [
    "### Robustness: Signal to noise"
   ]
  },
  {
   "cell_type": "code",
   "execution_count": null,
   "metadata": {
    "ExecuteTime": {
     "end_time": "2023-06-22T23:02:24.249810Z",
     "start_time": "2023-06-22T23:02:24.156315Z"
    }
   },
   "outputs": [],
   "source": [
    "from ema_workbench import ScalarOutcome\n",
    "\n",
    "def s_to_n(data, direction):\n",
    "    mean = np.mean(data)\n",
    "    std = np.std(data)\n",
    "\n",
    "    if direction==ScalarOutcome.MAXIMIZE:\n",
    "        return mean/std\n",
    "    else:\n",
    "        return mean*std"
   ]
  },
  {
   "cell_type": "code",
   "execution_count": null,
   "metadata": {
    "ExecuteTime": {
     "end_time": "2023-06-22T23:02:24.699823Z",
     "start_time": "2023-06-22T23:02:24.527814Z"
    }
   },
   "outputs": [],
   "source": [
    "overall_scores = {}\n",
    "for policy in np.unique(exp_new['policy']):\n",
    "    scores = {}\n",
    "\n",
    "    logical = exp_new['policy']==policy\n",
    "\n",
    "    for outcome in dike_model.outcomes:\n",
    "        value  = out_new[outcome.name][logical]\n",
    "        sn_ratio = s_to_n(value, outcome.kind)\n",
    "        scores[outcome.name] = sn_ratio\n",
    "    overall_scores[policy] = scores\n",
    "scores = pd.DataFrame.from_dict(overall_scores).T"
   ]
  },
  {
   "cell_type": "code",
   "execution_count": null,
   "metadata": {
    "ExecuteTime": {
     "end_time": "2023-06-22T22:38:56.782770Z",
     "start_time": "2023-06-22T22:38:56.063783Z"
    }
   },
   "outputs": [],
   "source": [
    "from ema_workbench.analysis import parcoords\n",
    "\n",
    "df = scores\n",
    "data=(df-df.min())/(df.max()-df.min())\n",
    "limits = parcoords.get_limits(data)\n",
    "data = data.fillna(0.5)\n",
    "limits.loc[0, [outcome.name for outcome in dike_model.outcomes]] = 0\n",
    "\n",
    "paraxes = parcoords.ParallelAxes(limits)\n",
    "paraxes.plot(data)\n",
    "# paraxes.invert_axis('max_P')\n",
    "plt.show()\n",
    "plt.savefig(\"Robustness\")"
   ]
  },
  {
   "cell_type": "code",
   "execution_count": null,
   "metadata": {},
   "outputs": [],
   "source": []
  }
 ],
 "metadata": {
  "kernelspec": {
   "display_name": "Python 3 (ipykernel)",
   "language": "python",
   "name": "python3"
  },
  "language_info": {
   "codemirror_mode": {
    "name": "ipython",
    "version": 3
   },
   "file_extension": ".py",
   "mimetype": "text/x-python",
   "name": "python",
   "nbconvert_exporter": "python",
   "pygments_lexer": "ipython3",
   "version": "3.11.3"
  }
 },
 "nbformat": 4,
 "nbformat_minor": 1
}
